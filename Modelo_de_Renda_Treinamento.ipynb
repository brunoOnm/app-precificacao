{
  "nbformat": 4,
  "nbformat_minor": 0,
  "metadata": {
    "hide_input": false,
    "kernelspec": {
      "display_name": "Python 3",
      "language": "python",
      "name": "python3"
    },
    "language_info": {
      "codemirror_mode": {
        "name": "ipython",
        "version": 3
      },
      "file_extension": ".py",
      "mimetype": "text/x-python",
      "name": "python",
      "nbconvert_exporter": "python",
      "pygments_lexer": "ipython3",
      "version": "3.7.6"
    },
    "toc": {
      "base_numbering": 1,
      "nav_menu": {},
      "number_sections": true,
      "sideBar": true,
      "skip_h1_title": false,
      "title_cell": "Table of Contents",
      "title_sidebar": "Contents",
      "toc_cell": false,
      "toc_position": {},
      "toc_section_display": true,
      "toc_window_display": false
    },
    "varInspector": {
      "cols": {
        "lenName": 16,
        "lenType": 16,
        "lenVar": 40
      },
      "kernels_config": {
        "python": {
          "delete_cmd_postfix": "",
          "delete_cmd_prefix": "del ",
          "library": "var_list.py",
          "varRefreshCmd": "print(var_dic_list())"
        },
        "r": {
          "delete_cmd_postfix": ") ",
          "delete_cmd_prefix": "rm(",
          "library": "var_list.r",
          "varRefreshCmd": "cat(var_dic_list()) "
        }
      },
      "types_to_exclude": [
        "module",
        "function",
        "builtin_function_or_method",
        "instance",
        "_Feature"
      ],
      "window_display": false
    },
    "colab": {
      "name": "Modelo de Renda - Treinamento.ipynb",
      "provenance": [],
      "collapsed_sections": [],
      "include_colab_link": true
    }
  },
  "cells": [
    {
      "cell_type": "markdown",
      "metadata": {
        "id": "view-in-github",
        "colab_type": "text"
      },
      "source": [
        "<a href=\"https://colab.research.google.com/github/brunoOnm/app-precificacao/blob/main/Modelo_de_Renda_Treinamento.ipynb\" target=\"_parent\"><img src=\"https://colab.research.google.com/assets/colab-badge.svg\" alt=\"Open In Colab\"/></a>"
      ]
    },
    {
      "cell_type": "markdown",
      "metadata": {
        "id": "F1lenw7ov7R4"
      },
      "source": [
        "# Treinamento do modelo de renda média"
      ]
    },
    {
      "cell_type": "code",
      "metadata": {
        "id": "3AWQGWniv7SG"
      },
      "source": [
        "import pandas as pd\n",
        "\n",
        "#conexão\n",
        "import pickle\n",
        "import redshift\n",
        "\n",
        "#modelagem e validação\n",
        "from sklearn.model_selection import cross_val_predict\n",
        "from sklearn.model_selection import GridSearchCV\n",
        "from sklearn.model_selection import LeaveOneOut\n",
        "\n",
        "from sklearn.linear_model import\\\n",
        "    LinearRegression, Lasso\n",
        "\n",
        "from sklearn.pipeline import make_pipeline\n",
        "from sklearn import preprocessing\n",
        "from sklearn.preprocessing import FunctionTransformer"
      ],
      "execution_count": null,
      "outputs": []
    },
    {
      "cell_type": "code",
      "metadata": {
        "id": "DcLQgXflv7SJ"
      },
      "source": [
        "df_indicadores = pd.read_excel('dados/base_indicadores.xlsx')"
      ],
      "execution_count": null,
      "outputs": []
    },
    {
      "cell_type": "code",
      "metadata": {
        "id": "VNZ5zadUv7SK"
      },
      "source": [
        "df_indicadores.estimativa_subsidio = np.power(df_indicadores.estimativa_subsidio,2) "
      ],
      "execution_count": null,
      "outputs": []
    },
    {
      "cell_type": "code",
      "metadata": {
        "id": "OWSLDpwWv7SL"
      },
      "source": [
        "produtos_alvo = tuple(df_indicadores.query('safra == \"treino\"').ID_SAP.dropna().values)"
      ],
      "execution_count": null,
      "outputs": []
    },
    {
      "cell_type": "code",
      "metadata": {
        "hide_input": false,
        "id": "G8KDQmLBv7SM"
      },
      "source": [
        "query_vendas = f''' select \n",
        "data_venda\n",
        ",proposta\n",
        ",cd_proposta\n",
        ",nome_empreendimento\n",
        ",divisao_sap\n",
        ",cidade\n",
        ",uf\n",
        ",tipologia_de_para\n",
        "--cliente\n",
        ",cliente_sap\n",
        ",documento\n",
        ",cliente\n",
        ",cli.dt_nascimento\n",
        ",cli.vl_renda_mensal\n",
        ",cli.vl_renda_formal\n",
        ",cli.ds_origem_renda_formal\n",
        ",cli.vl_renda_informal\n",
        ",cli.ds_origem_renda_informal\n",
        ",cli.vl_fgts\n",
        ",cli.vl_meses_fgts\n",
        ",cli.fl_possui_financiamento\n",
        ",cli.nr_filhos\n",
        ",cli.ds_cargo\n",
        ",cli.tp_escolaridade\n",
        ",cli.tp_residencia\n",
        ",cli.vl_aluguel\n",
        ",cli.nr_tempo_de_empresa\n",
        ",cli.nm_empresa\n",
        ",cli.ds_ramo_atividade_empresa\n",
        ",cli.fl_possui_automovel\n",
        ",cli.ds_cpf\n",
        ",cli.ds_id_sap\n",
        ",cli.nm_cliente\n",
        ",cli.ds_telefone\n",
        ",cli.fl_email_contato\n",
        ",cli.fl_enviar_material_marketing\n",
        ",cli.tp_melhor_hr_contato\n",
        "-- valores\n",
        ",valor_imovel\n",
        ",valor_venda\n",
        ",vl_preco_raso_proposta_prp\n",
        ",valor_tcd\n",
        ",parcela_aprovada\n",
        ",fator_social\n",
        ",\"faixa_1,5\"\n",
        ",total_itbi\n",
        ",pre_chaves_itbi_\n",
        ",pos_chaves_itbi_\n",
        ",total_geral_preco_raso\n",
        ",total_geral_venda\n",
        ",premiada_tenda_\n",
        ",total_geral_sem_premiada\n",
        ",preco_nominal_bp\n",
        ",preco_raso_bp\n",
        ",renda_bruta_familiar\n",
        ",ato_entrada\n",
        ",pre_chaves\n",
        ",pre_chaves_intermediaria\n",
        ",pos_chaves\n",
        ",financiamento\n",
        ",subsidio\n",
        ",fgts\n",
        ",pre_chaves_itbi\n",
        ",pre_chaves_intermediaria_itbi\n",
        ",pos_chaves_itbi\n",
        ",premiada_tenda\n",
        "from\n",
        "vendas.vw_base_dash_vendas v\n",
        "left join vendas.t_clientes cli\n",
        "\ton  v.cliente_sap = cli.ds_id_sap \n",
        "where data_venda is not null\n",
        "-- and data_venda  > '20190101'\n",
        "and divisao_sap in {produtos_alvo}\n",
        "and data_venda  BETWEEN '20190101' AND '20210228'\n",
        "'''"
      ],
      "execution_count": null,
      "outputs": []
    },
    {
      "cell_type": "code",
      "metadata": {
        "id": "XVpunf1fv7SO"
      },
      "source": [
        "df_vendas = redshift.df_query(query_vendas)"
      ],
      "execution_count": null,
      "outputs": []
    },
    {
      "cell_type": "code",
      "metadata": {
        "id": "Ah6Uim11v7SR"
      },
      "source": [
        "# limpeza da base\n",
        "df_vendas = df_vendas.query('tipologia_de_para !=  \"PNE\"')\n",
        "mask_vendas = (df_vendas.renda_bruta_familiar > 990) & (df_vendas.renda_bruta_familiar < 10000)\n",
        "df_vendas = df_vendas.loc[mask_vendas]\n",
        "\n",
        "# Produtos com mais de \n",
        "qnt_vendas = df_vendas.groupby('nome_empreendimento',as_index= False).agg({'proposta':'count'}).sort_values(by='proposta')\n",
        "produtos_filtro = list(qnt_vendas[qnt_vendas.proposta >= 80].nome_empreendimento)\n",
        "df_vendas = df_vendas.loc[df_vendas.query(f'nome_empreendimento =={produtos_filtro}').index]"
      ],
      "execution_count": null,
      "outputs": []
    },
    {
      "cell_type": "code",
      "metadata": {
        "id": "qcGcWtbsv7SS"
      },
      "source": [
        "#Parametros do gridsearch para a regularização \n",
        "corte_renda = np.arange(2000,4600,100)\n",
        "param_grid = {'alpha': 10**np.linspace(-3, 3, 100)}"
      ],
      "execution_count": null,
      "outputs": []
    },
    {
      "cell_type": "code",
      "metadata": {
        "id": "0qt72QZev7ST"
      },
      "source": [
        "corte = 2600\n",
        "df_vendas['flag_bojo'] = np.where(df_vendas['renda_bruta_familiar'] < corte,1,0)\n",
        "df_proporcao = df_vendas.groupby(['nome_empreendimento','divisao_sap'],as_index=False).agg({'flag_bojo':'sum',\n",
        "                                                     'proposta': 'count'})\n",
        "\n",
        "df_proporcao['prop_bojo'] = df_proporcao.flag_bojo / df_proporcao.proposta\n",
        "df_proporcao['prop_cauda']  = 1- df_proporcao['prop_bojo'] \n",
        "\n",
        "#define valores medios para o bojo e cauda\n",
        "df_parametros = pd.pivot_table(df_vendas, values='renda_bruta_familiar', index=['nome_empreendimento','divisao_sap'],\n",
        "            columns=['flag_bojo'], aggfunc=np.mean).reset_index()\n",
        "\n",
        "df_parametros.rename(columns= {0:'Cauda',1:'Bojo'}, inplace= True)\n"
      ],
      "execution_count": null,
      "outputs": []
    },
    {
      "cell_type": "code",
      "metadata": {
        "id": "GoKlLddsv7ST"
      },
      "source": [
        "df_grupo_rendas =  df_parametros.merge(df_proporcao[['divisao_sap','prop_bojo','prop_cauda']],\n",
        "            on = 'divisao_sap')"
      ],
      "execution_count": null,
      "outputs": []
    },
    {
      "cell_type": "code",
      "metadata": {
        "id": "jSmCShULv7SV"
      },
      "source": [
        "df_rendas_modelo = df_indicadores.query('safra == \"treino\" ').merge(df_grupo_rendas[['divisao_sap','nome_empreendimento','Cauda','prop_cauda','Bojo','prop_bojo' ]],\n",
        "                       how = 'inner',\n",
        "                       left_on='ID_SAP',\n",
        "                       right_on='divisao_sap')"
      ],
      "execution_count": null,
      "outputs": []
    },
    {
      "cell_type": "code",
      "metadata": {
        "id": "6d5y-BS6v7SV"
      },
      "source": [
        "colunas_renda = ['Cauda', 'prop_cauda', 'Bojo', 'prop_bojo' ,'nome_de_para','rmb2' , 'capital' , 'ufSP' , 'avaliacao','estimativa_subsidio', 'uf']\n",
        "\n",
        "exploratorias_bojo = ['Saúde_ate_3km_influente', 'parada de ônibus_ate_5km_influente','rmb2' , 'capital','ufSP' , 'avaliacao','estimativa_subsidio']\n",
        "places_bojo = ['Saúde_ate_3km_influente', 'parada de ônibus_ate_5km_influente']\n",
        "exploratorias_cauda = ['Saúde_ate_3km_influente', 'Saúde_ate_5km_influente', 'parada de ônibus_ate_5km_influente', 'parada de ônibus_maior_5km_influente','rmb2' , 'capital','ufSP' , 'avaliacao','estimativa_subsidio']\n",
        "places_cauda = ['Saúde_ate_3km_influente', 'Saúde_ate_5km_influente', 'parada de ônibus_ate_5km_influente', 'parada de ônibus_maior_5km_influente']"
      ],
      "execution_count": null,
      "outputs": []
    },
    {
      "cell_type": "code",
      "metadata": {
        "id": "-A1LdVZ4v7SX",
        "outputId": "40be2e9a-180d-4720-caf8-6415c81ae39a"
      },
      "source": [
        "df_model = df_rendas_modelo[colunas_renda + places_cauda]\n",
        "df_model.drop(columns=['nome_de_para'],inplace =True)\n",
        "df_validacao =  df_model.copy()\n",
        "df_model.drop(columns= ['uf','prop_cauda','prop_bojo'], inplace = True)"
      ],
      "execution_count": null,
      "outputs": [
        {
          "output_type": "stream",
          "text": [
            "C:\\Users\\bmoreira\\Anaconda3\\lib\\site-packages\\pandas\\core\\frame.py:4312: SettingWithCopyWarning: \n",
            "A value is trying to be set on a copy of a slice from a DataFrame\n",
            "\n",
            "See the caveats in the documentation: https://pandas.pydata.org/pandas-docs/stable/user_guide/indexing.html#returning-a-view-versus-a-copy\n",
            "  errors=errors,\n"
          ],
          "name": "stderr"
        }
      ]
    },
    {
      "cell_type": "code",
      "metadata": {
        "id": "50_J4Bl9v7SY",
        "outputId": "fffa63e9-00e4-42bb-be3c-232f5a6f7918"
      },
      "source": [
        "#Modeling bojo\n",
        "# split into inputs and outputs\n",
        "X, y = df_model[exploratorias_bojo], df_model['Bojo']\n",
        "#define cross-validation method to use\n",
        "cv = LeaveOneOut()\n",
        "#build multiple linear regression model\n",
        "linear_model  = LinearRegression()\n",
        "#Apply log in vars\n",
        "transformer = FunctionTransformer(np.log1p, validate=True)\n",
        "clf_bojo = make_pipeline(transformer, linear_model)\n",
        "clf_bojo.fit(X, y)"
      ],
      "execution_count": null,
      "outputs": [
        {
          "output_type": "execute_result",
          "data": {
            "text/plain": [
              "Pipeline(memory=None,\n",
              "         steps=[('functiontransformer',\n",
              "                 FunctionTransformer(accept_sparse=False, check_inverse=True,\n",
              "                                     func=<ufunc 'log1p'>, inv_kw_args=None,\n",
              "                                     inverse_func=None, kw_args=None,\n",
              "                                     validate=True)),\n",
              "                ('linearregression',\n",
              "                 LinearRegression(copy_X=True, fit_intercept=True, n_jobs=None,\n",
              "                                  normalize=False))],\n",
              "         verbose=False)"
            ]
          },
          "metadata": {
            "tags": []
          },
          "execution_count": 35
        }
      ]
    },
    {
      "cell_type": "code",
      "metadata": {
        "id": "HksRqMKiv7Sa"
      },
      "source": [
        "#Results bojo\n",
        "df_validacao['predict_bojo'] =  cross_val_predict(clf_bojo, X, y, cv=len(X), n_jobs=-1)\n",
        "df_validacao['erro_bojo'] = df_validacao['Bojo']- df_validacao.predict_bojo\n"
      ],
      "execution_count": null,
      "outputs": []
    },
    {
      "cell_type": "code",
      "metadata": {
        "id": "4jeSHsHkv7Sa"
      },
      "source": [
        "# split into inputs and outputs\n",
        "X, y = df_model.dropna(subset=['Cauda'], axis = 0)[exploratorias_cauda], df_model.dropna(subset=['Cauda'], axis = 0)['Cauda']\n",
        "#define cross-validation method to use\n",
        "cv = LeaveOneOut()\n",
        "#build multiple linear regression model\n",
        "#model = LinearRegression()\n",
        "\n",
        "model    = GridSearchCV(Lasso(),\n",
        "                        param_grid,\n",
        "                        n_jobs=-1,\n",
        "                        scoring='neg_root_mean_squared_error')\n",
        "\n",
        "#Apply log in vars\n",
        "transformer = FunctionTransformer(np.log1p, validate=True)\n",
        "clf_cauda = make_pipeline(transformer, model)\n",
        "\n",
        "clf_cauda.fit(X, y)\n",
        "\n",
        "#Results\n",
        "df_validacao.loc[df_validacao.Cauda.notnull(),'predict_cauda'] =  cross_val_predict(clf_cauda, X, y, cv=len(X), n_jobs=-1)\n",
        "df_validacao.loc[df_validacao.Cauda.notnull(),'erro_cauda'] = df_validacao.loc[df_validacao.Cauda.notnull(),'Cauda']- df_validacao.loc[df_validacao.Cauda.notnull(),'predict_cauda']\n",
        "\n",
        "df_validacao['erro_cauda'].fillna(0,inplace = True)\n",
        "df_validacao['predict_cauda'].fillna(0,inplace = True)\n",
        "df_validacao['erro_ponderado'] = (df_validacao.prop_cauda * df_validacao.erro_cauda) + (df_validacao.prop_bojo * df_validacao.erro_bojo)\n",
        "\n"
      ],
      "execution_count": null,
      "outputs": []
    },
    {
      "cell_type": "code",
      "metadata": {
        "id": "6LSS-awUv7Sb",
        "outputId": "77d53197-c94e-4b86-d3c7-45dfa70a50fb"
      },
      "source": [
        "#resultados \n",
        "erro_bojo =  np.mean(abs(df_validacao.erro_bojo))\n",
        "erro_cauda =  np.mean(abs(df_validacao.erro_cauda))\n",
        "erro_ponderado =  np.mean(abs(df_validacao['erro_ponderado']))\n",
        "std_erro =  np.std(abs(df_validacao['erro_ponderado']))\n",
        "df_aux = pd.DataFrame(data= [[corte,erro_bojo,erro_cauda,erro_ponderado,std_erro]],columns=['corte','erro_bojo','erro_cauda','erro_ponderado','std_erro'])\n",
        "\n",
        "print('erro ponderado: R$ ', erro_ponderado )\n",
        "print('std erro ponderado:  R$', std_erro)"
      ],
      "execution_count": null,
      "outputs": [
        {
          "output_type": "stream",
          "text": [
            "erro ponderado: R$  71.84243572950515\n",
            "std erro ponderado:  R$ 66.73003195236902\n"
          ],
          "name": "stdout"
        }
      ]
    },
    {
      "cell_type": "code",
      "metadata": {
        "id": "JXQ9rQckv7Sc"
      },
      "source": [
        "import seaborn as sns"
      ],
      "execution_count": null,
      "outputs": []
    },
    {
      "cell_type": "code",
      "metadata": {
        "id": "m_rrWWW6v7Sc",
        "outputId": "72241f17-bc67-4aad-9747-7505dcf3006c"
      },
      "source": [
        "sns.boxplot(x = df_validacao.uf , y = df_validacao.erro_ponderado)"
      ],
      "execution_count": null,
      "outputs": [
        {
          "output_type": "execute_result",
          "data": {
            "text/plain": [
              "<matplotlib.axes._subplots.AxesSubplot at 0x18d40193348>"
            ]
          },
          "metadata": {
            "tags": []
          },
          "execution_count": 29
        },
        {
          "output_type": "display_data",
          "data": {
            "image/png": "[encoded data removed]",
            "text/plain": [
              "<Figure size 432x288 with 1 Axes>"
            ]
          },
          "metadata": {
            "tags": [],
            "needs_background": "light"
          }
        }
      ]
    },
    {
      "cell_type": "code",
      "metadata": {
        "id": "PT_Ju9Pkv7Sd",
        "outputId": "561a2860-191c-4651-ecb8-c1212df730cf"
      },
      "source": [
        "#resultados \n",
        "erro_bojo =  np.mean(abs(df_validacao.erro_bojo))\n",
        "erro_cauda =  np.mean(abs(df_validacao.erro_cauda))\n",
        "erro_ponderado =  np.mean(abs(df_validacao['erro_ponderado']))\n",
        "std_erro =  np.std(abs(df_validacao['erro_ponderado']))\n",
        "df_aux = pd.DataFrame(data= [[corte,erro_bojo,erro_cauda,erro_ponderado,std_erro]],columns=['corte','erro_bojo','erro_cauda','erro_ponderado','std_erro'])\n",
        "\n",
        "print('erro ponderado: R$ ', erro_ponderado )\n",
        "print('std erro ponderado:  R$', std_erro)"
      ],
      "execution_count": null,
      "outputs": [
        {
          "output_type": "stream",
          "text": [
            "erro ponderado: R$  71.45385422218921\n",
            "std erro ponderado:  R$ 66.99568431318295\n"
          ],
          "name": "stdout"
        }
      ]
    },
    {
      "cell_type": "markdown",
      "metadata": {
        "id": "Ed6FZxNOv7Sd"
      },
      "source": [
        "# modelo para proporção"
      ]
    },
    {
      "cell_type": "code",
      "metadata": {
        "id": "zqld2OtMv7Sh"
      },
      "source": [
        "import matplotlib.pyplot as plt\n",
        "from sklearn import metrics\n",
        "import statsmodels.api as sm"
      ],
      "execution_count": null,
      "outputs": []
    },
    {
      "cell_type": "code",
      "metadata": {
        "id": "XtOXMaOnv7Sf",
        "outputId": "df1c498c-0b33-4e2e-b40a-8dc05487daff"
      },
      "source": [
        "df_model = df_rendas_modelo[['ID_SAP', 'nome_de_para', 'safra', 'uf','Cauda','Bojo', 'prop_bojo','estimativa_subsidio', 'avaliacao', 'rmb2', 'ufSP', 'capital', 'Saúde_ate_3km_influente',\n",
        "       'Saúde_ate_5km_influente', 'parada de ônibus_ate_5km_influente','parada de ônibus_maior_5km_influente']]\n",
        "df_validacao_prop =  df_model.copy()\n",
        "df_model.drop(columns= ['ID_SAP', 'nome_de_para', 'safra', 'uf'], inplace = True)"
      ],
      "execution_count": null,
      "outputs": [
        {
          "output_type": "stream",
          "text": [
            "C:\\Users\\bmoreira\\Anaconda3\\lib\\site-packages\\pandas\\core\\frame.py:4312: SettingWithCopyWarning: \n",
            "A value is trying to be set on a copy of a slice from a DataFrame\n",
            "\n",
            "See the caveats in the documentation: https://pandas.pydata.org/pandas-docs/stable/user_guide/indexing.html#returning-a-view-versus-a-copy\n",
            "  errors=errors,\n"
          ],
          "name": "stderr"
        }
      ]
    },
    {
      "cell_type": "code",
      "metadata": {
        "id": "nkQSebtDv7Sv"
      },
      "source": [
        "#Modeling bojo\n",
        "# split into inputs and outputs\n",
        "X, y = df_model[['Cauda','Bojo','estimativa_subsidio', 'avaliacao', 'rmb2', 'ufSP', 'capital', 'Saúde_ate_3km_influente', 'Saúde_ate_5km_influente', 'parada de ônibus_ate_5km_influente','parada de ônibus_maior_5km_influente']], df_model['prop_bojo']"
      ],
      "execution_count": null,
      "outputs": []
    },
    {
      "cell_type": "code",
      "metadata": {
        "id": "-SifZrk5v7Sx"
      },
      "source": [
        "binom_glm = sm.GLM(y, X, family=sm.families.Binomial())\n",
        "binom_results = binom_glm.fit()"
      ],
      "execution_count": null,
      "outputs": []
    },
    {
      "cell_type": "code",
      "metadata": {
        "id": "FpofDaSdv7Sx",
        "outputId": "b8bb0868-b3f5-4c02-9dfb-56f326284418"
      },
      "source": [
        "plt.plot(y, binom_results.predict(X), 'o', alpha=0.5);"
      ],
      "execution_count": null,
      "outputs": [
        {
          "output_type": "display_data",
          "data": {
            "image/png": "[encoded data removed]",
            "text/plain": [
              "<Figure size 432x288 with 1 Axes>"
            ]
          },
          "metadata": {
            "tags": [],
            "needs_background": "light"
          }
        }
      ]
    },
    {
      "cell_type": "code",
      "metadata": {
        "scrolled": true,
        "id": "mQmf8qDav7Sy",
        "outputId": "e5f2ebf2-4f44-4871-abfe-b34d1f5d0f26"
      },
      "source": [
        "binom_results.summary2()"
      ],
      "execution_count": null,
      "outputs": [
        {
          "output_type": "execute_result",
          "data": {
            "text/html": [
              "<table class=\"simpletable\">\n",
              "<tr>\n",
              "        <td>Model:</td>               <td>GLM</td>            <td>AIC:</td>        <td>57.0426</td> \n",
              "</tr>\n",
              "<tr>\n",
              "    <td>Link Function:</td>          <td>logit</td>           <td>BIC:</td>       <td>-151.5612</td>\n",
              "</tr>\n",
              "<tr>\n",
              "  <td>Dependent Variable:</td>     <td>prop_bojo</td>    <td>Log-Likelihood:</td>  <td>-17.521</td> \n",
              "</tr>\n",
              "<tr>\n",
              "         <td>Date:</td>        <td>2021-03-30 12:12</td>    <td>LL-Null:</td>      <td>-22.311</td> \n",
              "</tr>\n",
              "<tr>\n",
              "   <td>No. Observations:</td>         <td>50</td>           <td>Deviance:</td>     <td>1.0077</td>  \n",
              "</tr>\n",
              "<tr>\n",
              "       <td>Df Model:</td>             <td>10</td>         <td>Pearson chi2:</td>    <td>0.976</td>  \n",
              "</tr>\n",
              "<tr>\n",
              "     <td>Df Residuals:</td>           <td>39</td>            <td>Scale:</td>       <td>1.0000</td>  \n",
              "</tr>\n",
              "<tr>\n",
              "        <td>Method:</td>             <td>IRLS</td>              <td></td>             <td></td>     \n",
              "</tr>\n",
              "</table>\n",
              "<table class=\"simpletable\">\n",
              "<tr>\n",
              "                    <td></td>                    <th>Coef.</th>  <th>Std.Err.</th>    <th>z</th>     <th>P>|z|</th> <th>[0.025</th>  <th>0.975]</th>\n",
              "</tr>\n",
              "<tr>\n",
              "  <th>Cauda</th>                                <td>-0.0007</td>  <td>0.0021</td>  <td>-0.3260</td> <td>0.7444</td> <td>-0.0048</td> <td>0.0034</td>\n",
              "</tr>\n",
              "<tr>\n",
              "  <th>Bojo</th>                                 <td>-0.0033</td>  <td>0.0048</td>  <td>-0.7004</td> <td>0.4837</td> <td>-0.0126</td> <td>0.0060</td>\n",
              "</tr>\n",
              "<tr>\n",
              "  <th>estimativa_subsidio</th>                  <td>0.0000</td>   <td>0.0000</td>  <td>0.2259</td>  <td>0.8213</td> <td>-0.0000</td> <td>0.0000</td>\n",
              "</tr>\n",
              "<tr>\n",
              "  <th>avaliacao</th>                            <td>-0.0000</td>  <td>0.0000</td>  <td>-0.1712</td> <td>0.8641</td> <td>-0.0001</td> <td>0.0001</td>\n",
              "</tr>\n",
              "<tr>\n",
              "  <th>rmb2</th>                                 <td>0.0016</td>   <td>0.0016</td>  <td>1.0292</td>  <td>0.3034</td> <td>-0.0015</td> <td>0.0047</td>\n",
              "</tr>\n",
              "<tr>\n",
              "  <th>ufSP</th>                                 <td>-0.0789</td>  <td>1.4891</td>  <td>-0.0530</td> <td>0.9578</td> <td>-2.9975</td> <td>2.8398</td>\n",
              "</tr>\n",
              "<tr>\n",
              "  <th>capital</th>                              <td>-0.1941</td>  <td>1.1599</td>  <td>-0.1674</td> <td>0.8671</td> <td>-2.4675</td> <td>2.0792</td>\n",
              "</tr>\n",
              "<tr>\n",
              "  <th>Saúde_ate_3km_influente</th>              <td>-0.1688</td>  <td>1.1404</td>  <td>-0.1480</td> <td>0.8823</td> <td>-2.4039</td> <td>2.0662</td>\n",
              "</tr>\n",
              "<tr>\n",
              "  <th>Saúde_ate_5km_influente</th>              <td>0.4467</td>   <td>1.0518</td>  <td>0.4247</td>  <td>0.6710</td> <td>-1.6148</td> <td>2.5083</td>\n",
              "</tr>\n",
              "<tr>\n",
              "  <th>parada de ônibus_ate_5km_influente</th>   <td>0.2697</td>   <td>2.0143</td>  <td>0.1339</td>  <td>0.8935</td> <td>-3.6783</td> <td>4.2176</td>\n",
              "</tr>\n",
              "<tr>\n",
              "  <th>parada de ônibus_maior_5km_influente</th> <td>-0.3490</td>  <td>1.6575</td>  <td>-0.2106</td> <td>0.8332</td> <td>-3.5977</td> <td>2.8997</td>\n",
              "</tr>\n",
              "</table>"
            ],
            "text/plain": [
              "<class 'statsmodels.iolib.summary2.Summary'>\n",
              "\"\"\"\n",
              "                         Results: Generalized linear model\n",
              "===================================================================================\n",
              "Model:                     GLM                     AIC:                   57.0426  \n",
              "Link Function:             logit                   BIC:                   -151.5612\n",
              "Dependent Variable:        prop_bojo               Log-Likelihood:        -17.521  \n",
              "Date:                      2021-03-30 12:12        LL-Null:               -22.311  \n",
              "No. Observations:          50                      Deviance:              1.0077   \n",
              "Df Model:                  10                      Pearson chi2:          0.976    \n",
              "Df Residuals:              39                      Scale:                 1.0000   \n",
              "Method:                    IRLS                                                    \n",
              "-----------------------------------------------------------------------------------\n",
              "                                      Coef.  Std.Err.    z    P>|z|   [0.025 0.975]\n",
              "-----------------------------------------------------------------------------------\n",
              "Cauda                                -0.0007   0.0021 -0.3260 0.7444 -0.0048 0.0034\n",
              "Bojo                                 -0.0033   0.0048 -0.7004 0.4837 -0.0126 0.0060\n",
              "estimativa_subsidio                   0.0000   0.0000  0.2259 0.8213 -0.0000 0.0000\n",
              "avaliacao                            -0.0000   0.0000 -0.1712 0.8641 -0.0001 0.0001\n",
              "rmb2                                  0.0016   0.0016  1.0292 0.3034 -0.0015 0.0047\n",
              "ufSP                                 -0.0789   1.4891 -0.0530 0.9578 -2.9975 2.8398\n",
              "capital                              -0.1941   1.1599 -0.1674 0.8671 -2.4675 2.0792\n",
              "Saúde_ate_3km_influente              -0.1688   1.1404 -0.1480 0.8823 -2.4039 2.0662\n",
              "Saúde_ate_5km_influente               0.4467   1.0518  0.4247 0.6710 -1.6148 2.5083\n",
              "parada de ônibus_ate_5km_influente    0.2697   2.0143  0.1339 0.8935 -3.6783 4.2176\n",
              "parada de ônibus_maior_5km_influente -0.3490   1.6575 -0.2106 0.8332 -3.5977 2.8997\n",
              "===================================================================================\n",
              "\n",
              "\"\"\""
            ]
          },
          "metadata": {
            "tags": []
          },
          "execution_count": 342
        }
      ]
    },
    {
      "cell_type": "code",
      "metadata": {
        "id": "GIv7U4Wbv7Sy",
        "outputId": "5f360269-e1cc-48dd-bbbf-ff251ad2ddf2"
      },
      "source": [
        "metrics.mean_absolute_error(df_validacao_prop.prop_bojo, binom_results.predict(X))"
      ],
      "execution_count": null,
      "outputs": [
        {
          "output_type": "execute_result",
          "data": {
            "text/plain": [
              "0.046574979850814484"
            ]
          },
          "metadata": {
            "tags": []
          },
          "execution_count": 356
        }
      ]
    },
    {
      "cell_type": "code",
      "metadata": {
        "id": "JUAZvJKPv7Sz",
        "outputId": "801e9774-48e9-4e82-ce0f-fcd45cdfe3e8"
      },
      "source": [
        "metrics.r2_score(df_validacao_prop.prop_bojo, binom_results.predict(X))"
      ],
      "execution_count": null,
      "outputs": [
        {
          "output_type": "execute_result",
          "data": {
            "text/plain": [
              "0.9148958680906139"
            ]
          },
          "metadata": {
            "tags": []
          },
          "execution_count": 357
        }
      ]
    },
    {
      "cell_type": "code",
      "metadata": {
        "id": "oekfecBWv7Sz",
        "outputId": "de404f42-e740-452d-c4c6-85d5e2e26c6a"
      },
      "source": [
        "metrics.mean_absolute_error( df_validacao_prop.renda_ponderada_real , (binom_results.predict(X) *  df_validacao_prop.Bojo ) +  ((1-binom_results.predict(X)) *  df_validacao_prop.Cauda ))"
      ],
      "execution_count": null,
      "outputs": [
        {
          "output_type": "execute_result",
          "data": {
            "text/plain": [
              "70.56922014589757"
            ]
          },
          "metadata": {
            "tags": []
          },
          "execution_count": 361
        }
      ]
    },
    {
      "cell_type": "code",
      "metadata": {
        "id": "ABH_vz9dv7S1"
      },
      "source": [
        "df_validacao_prop.predict_prop_bojo = binom_results.predict(X)"
      ],
      "execution_count": null,
      "outputs": []
    },
    {
      "cell_type": "code",
      "metadata": {
        "id": "go7ztWTov7S2"
      },
      "source": [
        "df_validacao_prop['renda_ponderada_estimada']  =  (df_validacao_prop.predict_prop_bojo *  df_validacao_prop.Bojo ) +  ((1-df_validacao_prop.predict_prop_bojo) *  df_validacao_prop.Cauda )"
      ],
      "execution_count": null,
      "outputs": []
    },
    {
      "cell_type": "code",
      "metadata": {
        "id": "K2PTD_hbv7S2"
      },
      "source": [
        "df_validacao_prop['erro_prop_bojo'] =  df_validacao_prop.predict_prop_bojo - df_validacao_prop.prop_bojo"
      ],
      "execution_count": null,
      "outputs": []
    },
    {
      "cell_type": "code",
      "metadata": {
        "id": "M2u60HR7v7S3",
        "outputId": "a88f3253-aed3-40cc-9d9b-708ec114dbea"
      },
      "source": [
        "sns.distplot(df_validacao_prop['erro_prop_bojo'])"
      ],
      "execution_count": null,
      "outputs": [
        {
          "output_type": "execute_result",
          "data": {
            "text/plain": [
              "<matplotlib.axes._subplots.AxesSubplot at 0x18d521bcd88>"
            ]
          },
          "metadata": {
            "tags": []
          },
          "execution_count": 366
        },
        {
          "output_type": "display_data",
          "data": {
            "image/png": "[encoded data removed]",
            "text/plain": [
              "<Figure size 432x288 with 1 Axes>"
            ]
          },
          "metadata": {
            "tags": [],
            "needs_background": "light"
          }
        }
      ]
    },
    {
      "cell_type": "code",
      "metadata": {
        "id": "UW7-qLkxv7S4",
        "outputId": "d0eaf320-f593-46c3-85e3-1163236ae81b"
      },
      "source": [
        "plt.subplots(1,figsize=(12,5))\n",
        "plt.scatter((df_validacao_prop.predict_prop_bojo ), df_validacao_prop.prop_bojo )\n",
        "range = [( df_validacao_prop.predict_prop_bojo).min(), df_validacao_prop.predict_prop_bojo.max()]\n",
        "plt.plot(range, range, 'red')\n",
        "plt.xlabel('proporção bojo real')\n",
        "plt.ylabel('proporção estimada')\n",
        "plt.title(\"Proporção do bojo real vs estimado \", size=15)\n",
        "plt.show();"
      ],
      "execution_count": null,
      "outputs": [
        {
          "output_type": "display_data",
          "data": {
            "image/png": "[encoded data removed]",
            "text/plain": [
              "<Figure size 864x360 with 1 Axes>"
            ]
          },
          "metadata": {
            "tags": [],
            "needs_background": "light"
          }
        }
      ]
    },
    {
      "cell_type": "code",
      "metadata": {
        "id": "SskO9Ydfv7S4",
        "outputId": "6439b90c-ccb9-478f-be8b-64b31b86fbdb"
      },
      "source": [
        "sns.boxplot(y = df_validacao_prop.erro_prop_bojo,  x = df_validacao_prop.uf)"
      ],
      "execution_count": null,
      "outputs": [
        {
          "output_type": "execute_result",
          "data": {
            "text/plain": [
              "<matplotlib.axes._subplots.AxesSubplot at 0x18d52b85e48>"
            ]
          },
          "metadata": {
            "tags": []
          },
          "execution_count": 369
        },
        {
          "output_type": "display_data",
          "data": {
            "image/png": "[encoded data removed]",
            "text/plain": [
              "<Figure size 432x288 with 1 Axes>"
            ]
          },
          "metadata": {
            "tags": [],
            "needs_background": "light"
          }
        }
      ]
    },
    {
      "cell_type": "code",
      "metadata": {
        "id": "_yo5BR2-v7S5",
        "outputId": "6fc4b8c1-de56-4d56-e48a-c2e0f4174427"
      },
      "source": [
        "plt.subplots(1,figsize=(12,5))\n",
        "plt.scatter(x= df_validacao_prop.erro_prop_bojo, y= df_validacao_prop.Bojo )\n",
        "plt.xlabel('Erro proporção bojo')\n",
        "plt.ylabel('renda bojo')\n",
        "plt.title(\"Renda do bojo x erro na proporção estimada \", size=15)\n",
        "plt.show();"
      ],
      "execution_count": null,
      "outputs": [
        {
          "output_type": "display_data",
          "data": {
            "image/png": "[encoded data removed]",
            "text/plain": [
              "<Figure size 864x360 with 1 Axes>"
            ]
          },
          "metadata": {
            "tags": [],
            "needs_background": "light"
          }
        }
      ]
    },
    {
      "cell_type": "code",
      "metadata": {
        "id": "Kw9U4daNv7S5",
        "outputId": "65709efe-319b-4be9-fca8-d06b63a68ef6"
      },
      "source": [
        "plt.subplots(1,figsize=(12,5))\n",
        "plt.scatter(x= df_validacao_prop.erro_prop_bojo, y= df_validacao_prop.Bojo )\n",
        "plt.xlabel('Erro proporção bojo')\n",
        "plt.ylabel('renda bojo')\n",
        "plt.title(\"Renda do bojo x erro na proporção estimada \", size=15)\n",
        "plt.show();"
      ],
      "execution_count": null,
      "outputs": [
        {
          "output_type": "display_data",
          "data": {
            "image/png": "[encoded data removed]",
            "text/plain": [
              "<Figure size 864x360 with 1 Axes>"
            ]
          },
          "metadata": {
            "tags": [],
            "needs_background": "light"
          }
        }
      ]
    },
    {
      "cell_type": "code",
      "metadata": {
        "id": "IOOKAjT2v7S6",
        "outputId": "acafe820-52fd-49e8-8c41-c55f0b24f6b2"
      },
      "source": [
        "sns.boxplot(y = df_validacao_prop.erro_prop_bojo,  x = df_validacao_prop.uf)"
      ],
      "execution_count": null,
      "outputs": [
        {
          "output_type": "execute_result",
          "data": {
            "text/plain": [
              "<matplotlib.axes._subplots.AxesSubplot at 0x18d4a72a588>"
            ]
          },
          "metadata": {
            "tags": []
          },
          "execution_count": 154
        },
        {
          "output_type": "display_data",
          "data": {
            "image/png": "[encoded data removed]",
            "text/plain": [
              "<Figure size 432x288 with 1 Axes>"
            ]
          },
          "metadata": {
            "tags": [],
            "needs_background": "light"
          }
        }
      ]
    },
    {
      "cell_type": "code",
      "metadata": {
        "id": "jwcQh411v7S7",
        "outputId": "7bef32e3-e017-486b-cde5-7e76316cd697"
      },
      "source": [
        "metrics.mean_squared_error(df_validacao_prop.prop_bojo, df_validacao_prop.predict_prop_bojo)"
      ],
      "execution_count": null,
      "outputs": [
        {
          "output_type": "execute_result",
          "data": {
            "text/plain": [
              "0.006428461591607172"
            ]
          },
          "metadata": {
            "tags": []
          },
          "execution_count": 252
        }
      ]
    },
    {
      "cell_type": "code",
      "metadata": {
        "id": "MKxf_xQXv7S7",
        "outputId": "84b1f20b-e7fd-4be3-e4f7-b4b13c2813e9"
      },
      "source": [
        "metrics.mean_absolute_error(df_validacao_prop.prop_bojo, df_validacao_prop.predict_prop_bojo)"
      ],
      "execution_count": null,
      "outputs": [
        {
          "output_type": "execute_result",
          "data": {
            "text/plain": [
              "0.0618976540637077"
            ]
          },
          "metadata": {
            "tags": []
          },
          "execution_count": 253
        }
      ]
    },
    {
      "cell_type": "code",
      "metadata": {
        "id": "oiDlzk7tv7S8",
        "outputId": "39a330c1-c5d6-4784-9a57-2c0f9c63079a"
      },
      "source": [
        "metrics.r2_score(df_validacao_prop.prop_bojo, df_validacao_prop.predict_prop_bojo)"
      ],
      "execution_count": null,
      "outputs": [
        {
          "output_type": "execute_result",
          "data": {
            "text/plain": [
              "0.8533043075933737"
            ]
          },
          "metadata": {
            "tags": []
          },
          "execution_count": 255
        }
      ]
    },
    {
      "cell_type": "code",
      "metadata": {
        "id": "o9z3xu2Mv7S8",
        "outputId": "dfb62d33-d89b-429d-fb4f-4160ff979053"
      },
      "source": [
        "clf_bojo.named_steps['linearregression'].intercept_"
      ],
      "execution_count": null,
      "outputs": [
        {
          "output_type": "execute_result",
          "data": {
            "text/plain": [
              "16.80590985772603"
            ]
          },
          "metadata": {
            "tags": []
          },
          "execution_count": 269
        }
      ]
    },
    {
      "cell_type": "code",
      "metadata": {
        "id": "vFB2bgguv7S9",
        "outputId": "c87ff12b-b319-4acf-ce88-e78c5ee58496"
      },
      "source": [
        "pd.DataFrame( list(zip( clf_bojo.named_steps['linearregression'].coef_, X.columns)))"
      ],
      "execution_count": null,
      "outputs": [
        {
          "output_type": "execute_result",
          "data": {
            "text/html": [
              "<div>\n",
              "<style scoped>\n",
              "    .dataframe tbody tr th:only-of-type {\n",
              "        vertical-align: middle;\n",
              "    }\n",
              "\n",
              "    .dataframe tbody tr th {\n",
              "        vertical-align: top;\n",
              "    }\n",
              "\n",
              "    .dataframe thead th {\n",
              "        text-align: right;\n",
              "    }\n",
              "</style>\n",
              "<table border=\"1\" class=\"dataframe\">\n",
              "  <thead>\n",
              "    <tr style=\"text-align: right;\">\n",
              "      <th></th>\n",
              "      <th>0</th>\n",
              "      <th>1</th>\n",
              "    </tr>\n",
              "  </thead>\n",
              "  <tbody>\n",
              "    <tr>\n",
              "      <th>0</th>\n",
              "      <td>-0.398926</td>\n",
              "      <td>Cauda</td>\n",
              "    </tr>\n",
              "    <tr>\n",
              "      <th>1</th>\n",
              "      <td>-0.973692</td>\n",
              "      <td>Bojo</td>\n",
              "    </tr>\n",
              "    <tr>\n",
              "      <th>2</th>\n",
              "      <td>0.041803</td>\n",
              "      <td>estimativa_subsidio</td>\n",
              "    </tr>\n",
              "    <tr>\n",
              "      <th>3</th>\n",
              "      <td>-0.383471</td>\n",
              "      <td>avaliacao</td>\n",
              "    </tr>\n",
              "    <tr>\n",
              "      <th>4</th>\n",
              "      <td>-0.195554</td>\n",
              "      <td>rmb2</td>\n",
              "    </tr>\n",
              "    <tr>\n",
              "      <th>5</th>\n",
              "      <td>0.127901</td>\n",
              "      <td>ufSP</td>\n",
              "    </tr>\n",
              "    <tr>\n",
              "      <th>6</th>\n",
              "      <td>-0.042492</td>\n",
              "      <td>capital</td>\n",
              "    </tr>\n",
              "    <tr>\n",
              "      <th>7</th>\n",
              "      <td>-0.007658</td>\n",
              "      <td>Saúde_ate_3km_influente</td>\n",
              "    </tr>\n",
              "    <tr>\n",
              "      <th>8</th>\n",
              "      <td>0.101269</td>\n",
              "      <td>Saúde_ate_5km_influente</td>\n",
              "    </tr>\n",
              "    <tr>\n",
              "      <th>9</th>\n",
              "      <td>0.100316</td>\n",
              "      <td>parada de ônibus_ate_5km_influente</td>\n",
              "    </tr>\n",
              "    <tr>\n",
              "      <th>10</th>\n",
              "      <td>-0.143593</td>\n",
              "      <td>parada de ônibus_maior_5km_influente</td>\n",
              "    </tr>\n",
              "  </tbody>\n",
              "</table>\n",
              "</div>"
            ],
            "text/plain": [
              "           0                                     1\n",
              "0  -0.398926                                 Cauda\n",
              "1  -0.973692                                  Bojo\n",
              "2   0.041803                   estimativa_subsidio\n",
              "3  -0.383471                             avaliacao\n",
              "4  -0.195554                                  rmb2\n",
              "5   0.127901                                  ufSP\n",
              "6  -0.042492                               capital\n",
              "7  -0.007658               Saúde_ate_3km_influente\n",
              "8   0.101269               Saúde_ate_5km_influente\n",
              "9   0.100316    parada de ônibus_ate_5km_influente\n",
              "10 -0.143593  parada de ônibus_maior_5km_influente"
            ]
          },
          "metadata": {
            "tags": []
          },
          "execution_count": 165
        }
      ]
    },
    {
      "cell_type": "code",
      "metadata": {
        "id": "OK3NoR0sv7S9",
        "outputId": "0062560f-e574-4c8d-baf8-cca765eca87e"
      },
      "source": [
        "sns.boxplot(y = df_rendas_modelo.prop_cauda,  x = df_rendas_modelo.uf)"
      ],
      "execution_count": null,
      "outputs": [
        {
          "output_type": "execute_result",
          "data": {
            "text/plain": [
              "<matplotlib.axes._subplots.AxesSubplot at 0x18d46dab288>"
            ]
          },
          "metadata": {
            "tags": []
          },
          "execution_count": 128
        },
        {
          "output_type": "display_data",
          "data": {
            "image/png": "[encoded data removed]",
            "text/plain": [
              "<Figure size 432x288 with 1 Axes>"
            ]
          },
          "metadata": {
            "tags": [],
            "needs_background": "light"
          }
        }
      ]
    },
    {
      "cell_type": "code",
      "metadata": {
        "id": "xGp8V1lvv7S-",
        "outputId": "d803f34e-9d16-4571-b9c1-3fcbfe147228"
      },
      "source": [
        "sns.boxplot(x = df_validacao.uf , y = df_validacao.erro_ponderado)"
      ],
      "execution_count": null,
      "outputs": [
        {
          "output_type": "execute_result",
          "data": {
            "text/plain": [
              "<matplotlib.axes._subplots.AxesSubplot at 0x18d407246c8>"
            ]
          },
          "metadata": {
            "tags": []
          },
          "execution_count": 39
        },
        {
          "output_type": "display_data",
          "data": {
            "image/png": "[encoded data removed]",
            "text/plain": [
              "<Figure size 432x288 with 1 Axes>"
            ]
          },
          "metadata": {
            "tags": [],
            "needs_background": "light"
          }
        }
      ]
    },
    {
      "cell_type": "code",
      "metadata": {
        "id": "GM2IjIlmv7S-"
      },
      "source": [
        "df_validacao_prop['renda_ponderada_real'] =(df_validacao_prop.prop_bojo * df_validacao_prop.Bojo) +  ((1-df_validacao_prop.prop_bojo) * df_validacao_prop.Cauda) \n",
        "df_validacao_prop['renda_ponderada_estimada']  =  (df_validacao_prop.predict_prop_bojo *  df_validacao_prop.Bojo ) +  ((1-df_validacao_prop.predict_prop_bojo) *  df_validacao_prop.Cauda )"
      ],
      "execution_count": null,
      "outputs": []
    },
    {
      "cell_type": "code",
      "metadata": {
        "id": "c1r-XWzLv7S_",
        "outputId": "af6c3fe2-fdc8-4b08-ed10-6f3f1e4d2555"
      },
      "source": [
        "sns.distplot(df_validacao_prop.prop_bojo)"
      ],
      "execution_count": null,
      "outputs": [
        {
          "output_type": "execute_result",
          "data": {
            "text/plain": [
              "<matplotlib.axes._subplots.AxesSubplot at 0x18d49b9b148>"
            ]
          },
          "metadata": {
            "tags": []
          },
          "execution_count": 279
        },
        {
          "output_type": "display_data",
          "data": {
            "image/png": "[encoded data removed]",
            "text/plain": [
              "<Figure size 432x288 with 1 Axes>"
            ]
          },
          "metadata": {
            "tags": [],
            "needs_background": "light"
          }
        }
      ]
    },
    {
      "cell_type": "code",
      "metadata": {
        "id": "7HE_SqDZv7S_",
        "outputId": "c2b24fa8-b492-4818-d6b7-fb7c7c4975cb"
      },
      "source": [
        "sns.boxplot(x = df_validacao_prop.uf, y =df_validacao_prop.prop_bojo)"
      ],
      "execution_count": null,
      "outputs": [
        {
          "output_type": "execute_result",
          "data": {
            "text/plain": [
              "<matplotlib.axes._subplots.AxesSubplot at 0x18d4a866cc8>"
            ]
          },
          "metadata": {
            "tags": []
          },
          "execution_count": 280
        },
        {
          "output_type": "display_data",
          "data": {
            "image/png": "[encoded data removed]",
            "text/plain": [
              "<Figure size 432x288 with 1 Axes>"
            ]
          },
          "metadata": {
            "tags": [],
            "needs_background": "light"
          }
        }
      ]
    },
    {
      "cell_type": "code",
      "metadata": {
        "id": "1wD2AMBZv7TA",
        "outputId": "8e95ce90-08a7-481a-e120-950588405bb5"
      },
      "source": [
        "plt.subplots(1,figsize=(12,5))\n",
        "plt.scatter((df_validacao_prop.renda_ponderada_estimada ), df_validacao_prop.renda_ponderada_real )\n",
        "range = [( df_validacao_prop.renda_ponderada_estimada).min(), df_validacao_prop.renda_ponderada_estimada.max()]\n",
        "plt.plot(range, range, 'red')\n",
        "plt.xlabel('Renda ponderada real')\n",
        "plt.ylabel('Renda ponderada estimada')\n",
        "plt.title(\"Proporção estimada vs real \", size=15)\n",
        "plt.show();"
      ],
      "execution_count": null,
      "outputs": [
        {
          "output_type": "display_data",
          "data": {
            "image/png": "[encoded data removed]",
            "text/plain": [
              "<Figure size 864x360 with 1 Axes>"
            ]
          },
          "metadata": {
            "tags": [],
            "needs_background": "light"
          }
        }
      ]
    },
    {
      "cell_type": "code",
      "metadata": {
        "id": "SzH3JeUDv7TA",
        "outputId": "2dfebb2e-247b-4bb4-c83f-a4788c634771"
      },
      "source": [
        "df_validacao_prop.predict_prop_bojo.describe()"
      ],
      "execution_count": null,
      "outputs": [
        {
          "output_type": "execute_result",
          "data": {
            "text/plain": [
              "count    50.000000\n",
              "mean      0.705624\n",
              "std       0.193348\n",
              "min       0.327578\n",
              "25%       0.533861\n",
              "50%       0.764901\n",
              "75%       0.875793\n",
              "max       0.970815\n",
              "Name: predict_prop_bojo, dtype: float64"
            ]
          },
          "metadata": {
            "tags": []
          },
          "execution_count": 282
        }
      ]
    },
    {
      "cell_type": "code",
      "metadata": {
        "id": "P5_i9hrev7TB",
        "outputId": "bd7cd706-cb7f-4c40-8515-f61119bd346b"
      },
      "source": [
        "df_validacao_prop.columns"
      ],
      "execution_count": null,
      "outputs": [
        {
          "output_type": "execute_result",
          "data": {
            "text/plain": [
              "Index(['ID_SAP', 'nome_de_para', 'safra', 'uf', 'Cauda', 'Bojo', 'prop_bojo',\n",
              "       'estimativa_subsidio', 'avaliacao', 'rmb2', 'ufSP', 'capital',\n",
              "       'Saúde_ate_3km_influente', 'Saúde_ate_5km_influente',\n",
              "       'parada de ônibus_ate_5km_influente',\n",
              "       'parada de ônibus_maior_5km_influente', 'predict_prop_bojo',\n",
              "       'erro_prop_bojo', 'renda_ponderada_real', 'renda_ponderada_estimada'],\n",
              "      dtype='object')"
            ]
          },
          "metadata": {
            "tags": []
          },
          "execution_count": 286
        }
      ]
    },
    {
      "cell_type": "code",
      "metadata": {
        "id": "cn2ItxV1v7TB",
        "outputId": "a1f6975a-6868-45ed-cc12-ace1cf04c1c9"
      },
      "source": [
        "plt.subplots(1,figsize=(12,5))\n",
        "plt.scatter((df_validacao_prop.predict_prop_bojo ), df_validacao_prop.prop_bojo )\n",
        "range = [( df_validacao_prop.predict_prop_bojo).min(), df_validacao_prop.predict_prop_bojo.max()]\n",
        "plt.plot(range, range, 'red')\n",
        "plt.xlabel('Proporção real')\n",
        "plt.ylabel(' Proporção estimada')\n",
        "plt.title(\"Proporção estimada vs real \", size=15)\n",
        "plt.show();"
      ],
      "execution_count": null,
      "outputs": [
        {
          "output_type": "display_data",
          "data": {
            "image/png": "[encoded data removed]",
            "text/plain": [
              "<Figure size 864x360 with 1 Axes>"
            ]
          },
          "metadata": {
            "tags": [],
            "needs_background": "light"
          }
        }
      ]
    },
    {
      "cell_type": "code",
      "metadata": {
        "id": "MJh9Vayhv7TD",
        "outputId": "4c59d123-0480-4b14-a44d-551a5b3133f4"
      },
      "source": [
        "metrics.mean_absolute_error( df_validacao_prop.renda_ponderada_real , (df_validacao_prop.predict_prop_bojo *  df_validacao_prop.Bojo ) +  ((1-df_validacao_prop.predict_prop_bojo) *  df_validacao_prop.Cauda ))"
      ],
      "execution_count": null,
      "outputs": [
        {
          "output_type": "execute_result",
          "data": {
            "text/plain": [
              "92.89257065207441"
            ]
          },
          "metadata": {
            "tags": []
          },
          "execution_count": 275
        }
      ]
    },
    {
      "cell_type": "code",
      "metadata": {
        "id": "9O9u3Iv2v7TD"
      },
      "source": [
        ""
      ],
      "execution_count": null,
      "outputs": []
    },
    {
      "cell_type": "code",
      "metadata": {
        "id": "LhglpP4gv7TD"
      },
      "source": [
        ""
      ],
      "execution_count": null,
      "outputs": []
    },
    {
      "cell_type": "code",
      "metadata": {
        "id": "6bBDGFtfv7TE"
      },
      "source": [
        ""
      ],
      "execution_count": null,
      "outputs": []
    },
    {
      "cell_type": "code",
      "metadata": {
        "id": "EmEb_EXBv7TE"
      },
      "source": [
        ""
      ],
      "execution_count": null,
      "outputs": []
    },
    {
      "cell_type": "code",
      "metadata": {
        "id": "paWBhkyev7TE"
      },
      "source": [
        ""
      ],
      "execution_count": null,
      "outputs": []
    },
    {
      "cell_type": "code",
      "metadata": {
        "id": "byqEDpOxv7TF"
      },
      "source": [
        ""
      ],
      "execution_count": null,
      "outputs": []
    },
    {
      "cell_type": "code",
      "metadata": {
        "id": "BT2kX7HOv7TF"
      },
      "source": [
        "# Save for later\n",
        "with open('Dados/clf_cauda.pickle', 'wb') as to_write:\n",
        "    pickle.dump(clf_cauda, to_write)\n",
        "    \n",
        "with open('Dados/clf_bojo.pickle', 'wb') as to_write:\n",
        "    pickle.dump(clf_bojo, to_write)"
      ],
      "execution_count": null,
      "outputs": []
    },
    {
      "cell_type": "code",
      "metadata": {
        "id": "4kukx8wnv7TF"
      },
      "source": [
        "with open('Dados/binom_results.pickle', 'wb') as to_write:\n",
        "    pickle.dump(binom_results, to_write)   "
      ],
      "execution_count": null,
      "outputs": []
    }
  ]
}